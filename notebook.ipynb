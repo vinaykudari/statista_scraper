{
 "cells": [
  {
   "cell_type": "code",
   "execution_count": 6,
   "id": "252237a7-4b1c-471d-a5f9-321293d3a163",
   "metadata": {},
   "outputs": [],
   "source": [
    "from IPython.core.display import Image, display\n",
    "\n",
    "from statista import Statista"
   ]
  },
  {
   "cell_type": "code",
   "execution_count": 7,
   "id": "57f6849a-e06c-43f6-af5a-bbbed223ed9a",
   "metadata": {},
   "outputs": [],
   "source": [
    "s = Statista()\n",
    "s.scrape(1, 1)"
   ]
  }
 ],
 "metadata": {
  "kernelspec": {
   "display_name": "Python 3 (ipykernel)",
   "language": "python",
   "name": "python3"
  },
  "language_info": {
   "codemirror_mode": {
    "name": "ipython",
    "version": 3
   },
   "file_extension": ".py",
   "mimetype": "text/x-python",
   "name": "python",
   "nbconvert_exporter": "python",
   "pygments_lexer": "ipython3",
   "version": "3.9.12"
  }
 },
 "nbformat": 4,
 "nbformat_minor": 5
}